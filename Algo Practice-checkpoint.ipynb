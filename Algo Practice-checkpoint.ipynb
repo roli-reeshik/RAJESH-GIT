{
 "cells": [
  {
   "cell_type": "code",
   "execution_count": 18,
   "id": "9076d260",
   "metadata": {},
   "outputs": [],
   "source": [
    "!pip install jovian --upgrade --quiet"
   ]
  },
  {
   "cell_type": "code",
   "execution_count": 19,
   "id": "d3966617",
   "metadata": {},
   "outputs": [
    {
     "data": {
      "application/javascript": [
       "if (window.IPython && IPython.notebook.kernel) IPython.notebook.kernel.execute('jovian.utils.jupyter.get_notebook_name_saved = lambda: \"' + IPython.notebook.notebook_name + '\"')"
      ],
      "text/plain": [
       "<IPython.core.display.Javascript object>"
      ]
     },
     "metadata": {},
     "output_type": "display_data"
    },
    {
     "name": "stdout",
     "output_type": "stream",
     "text": [
      "{'input': {'cards': [13, 11, 10, 7, 4, 3, 1, 0], 'query': 7}, 'output': 3}\n",
      "True\n",
      "3\n",
      "\n",
      "Input:\n",
      "{'cards': [13, 11, 10, 7, 4, 3, 1, 0], 'query': 7}\n",
      "\n",
      "Expected Output:\n",
      "3\n",
      "\n",
      "\n",
      "Actual Output:\n",
      "3\n",
      "\n",
      "Execution Time:\n",
      "0.009 ms\n",
      "\n",
      "Test Result:\n",
      "\u001b[92mPASSED\u001b[0m\n",
      "\n"
     ]
    },
    {
     "data": {
      "text/plain": [
       "(3, True, 0.009)"
      ]
     },
     "execution_count": 19,
     "metadata": {},
     "output_type": "execute_result"
    }
   ],
   "source": [
    "from jovian.pythondsa import evaluate_test_case\n",
    "def locate_card(cards,query):\n",
    "    #create a variable position with value 0\n",
    "    position = 0\n",
    "    # set up a loop for repetition\n",
    "    while True:\n",
    "        #check if the element at the current position matches the query\n",
    "        if cards[position]==query:\n",
    "            #Answer found! Return and exit\n",
    "            return position\n",
    "        #increment the position\n",
    "        position+=1\n",
    "        #check if we have reached the end of the arrray\n",
    "        if position==len(cards):\n",
    "            #number not found, return -1\n",
    "            return -1\n",
    "    \n",
    "test={'input':{'cards':[13,11,10,7,4,3,1,0],'query':7},'output':3}\n",
    "print(test)\n",
    "\n",
    "result=locate_card(test['input']['cards'],test['input']['query'])\n",
    "#if we have only two keys in a dictionary then we can write like locate_card(**test[input]) only\n",
    "print(result==test['output'])\n",
    "print(result)\n",
    "evaluate_test_case(locate_card,test)"
   ]
  },
  {
   "cell_type": "code",
   "execution_count": null,
   "id": "b67cfbfd",
   "metadata": {},
   "outputs": [],
   "source": []
  }
 ],
 "metadata": {
  "kernelspec": {
   "display_name": "Python 3 (ipykernel)",
   "language": "python",
   "name": "python3"
  },
  "language_info": {
   "codemirror_mode": {
    "name": "ipython",
    "version": 3
   },
   "file_extension": ".py",
   "mimetype": "text/x-python",
   "name": "python",
   "nbconvert_exporter": "python",
   "pygments_lexer": "ipython3",
   "version": "3.9.7"
  }
 },
 "nbformat": 4,
 "nbformat_minor": 5
}
