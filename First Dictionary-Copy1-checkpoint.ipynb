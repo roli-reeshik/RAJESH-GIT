{
 "cells": [
  {
   "cell_type": "code",
   "execution_count": 9,
   "id": "9058454d",
   "metadata": {},
   "outputs": [
    {
     "name": "stdout",
     "output_type": "stream",
     "text": [
      "{'ID': 1001, 'NAME': 'Rajesh', 'Roll': 21, 'Phone': 98786434, 'City': 'Lucknow'}\n",
      "dict_keys(['ID', 'NAME', 'Roll', 'Phone', 'City'])\n",
      "dict_values([1001, 'Rajesh', 21, 98786434, 'Lucknow'])\n",
      "ID 1001\n",
      "NAME Rajesh\n",
      "Roll 21\n",
      "Phone 98786434\n",
      "City Lucknow\n"
     ]
    }
   ],
   "source": [
    "stud={\"ID\":1001,\"NAME\":'Rajesh',\"Roll\":21,\"Phone\":98786434,\"City\":'Lucknow'}\n",
    "print(stud)\n",
    "print(stud.keys())\n",
    "print(stud.values())\n",
    "for a in stud:\n",
    "    print(a,stud[a])"
   ]
  },
  {
   "cell_type": "code",
   "execution_count": 13,
   "id": "80d91e0d",
   "metadata": {},
   "outputs": [
    {
     "name": "stdout",
     "output_type": "stream",
     "text": [
      "edureka\n"
     ]
    }
   ],
   "source": [
    "a={1:\"edureka\",2:\"Data Science\",3:\"Python\"}\n",
    "print(a[1])"
   ]
  },
  {
   "cell_type": "code",
   "execution_count": 14,
   "id": "16a30e0e",
   "metadata": {},
   "outputs": [
    {
     "name": "stdout",
     "output_type": "stream",
     "text": [
      "rk classes\n"
     ]
    }
   ],
   "source": [
    "a[1]=\"rk classes\"\n",
    "print(a[1])"
   ]
  },
  {
   "cell_type": "code",
   "execution_count": null,
   "id": "70656ea2",
   "metadata": {},
   "outputs": [],
   "source": []
  }
 ],
 "metadata": {
  "kernelspec": {
   "display_name": "Python 3 (ipykernel)",
   "language": "python",
   "name": "python3"
  },
  "language_info": {
   "codemirror_mode": {
    "name": "ipython",
    "version": 3
   },
   "file_extension": ".py",
   "mimetype": "text/x-python",
   "name": "python",
   "nbconvert_exporter": "python",
   "pygments_lexer": "ipython3",
   "version": "3.9.7"
  }
 },
 "nbformat": 4,
 "nbformat_minor": 5
}
