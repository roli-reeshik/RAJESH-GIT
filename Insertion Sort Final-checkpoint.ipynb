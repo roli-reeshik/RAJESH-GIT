{
 "cells": [
  {
   "cell_type": "code",
   "execution_count": 5,
   "id": "7434c532",
   "metadata": {},
   "outputs": [
    {
     "name": "stdout",
     "output_type": "stream",
     "text": [
      "ARRAY INITITAL : [7, 2, 1, 23, 6, 9, 11]\n",
      "Sorted Array : [1, 2, 6, 7, 9, 11, 23]\n"
     ]
    }
   ],
   "source": [
    "arr=[7,2,1,23,6,9,11]\n",
    "print(\"ARRAY INITITAL :\",arr)\n",
    "for i in range(0,len(arr)-1):\n",
    "    #print(\"-------------------------------------------------------------------------\")\n",
    "    #print(\"Loop Start:\"+str(i))\n",
    "    #print(arr)\n",
    "    k=i+1\n",
    "    #pos=i\n",
    "    #print(\"i=\",i)\n",
    "    #print(\"k=\",k)\n",
    "    #print(\"pos=\",pos)\n",
    "    \n",
    "    #print(arr[i]>arr[k] & k<=len(arr))\n",
    "    if arr[i] > arr[k]:\n",
    "        #print(\"arr[i] :\",arr[i])\n",
    "        #print(\"arr[k] :\",arr[k])\n",
    "        arr[i],arr[k]=arr[k],arr[i]\n",
    "        #print(\"First Swap\")\n",
    "        #print(\"arr[i] :\"+str(arr[i])+\" is swapped with arr[k] :\"+str(arr[k]))\n",
    "        #print(\"i after loop=\",i)\n",
    "        #print(\"pos after loop=\",pos)\n",
    "        for j in range(0,i):\n",
    "            #print(\"second loop\")\n",
    "            #j=pos-1\n",
    "            #print(\"second\")\n",
    "            if arr[i]<arr[j]:\n",
    "                arr[i],arr[j]=arr[j],arr[i]\n",
    "                #print(\"Second Swap\")\n",
    "                #print(\"pos=\",pos)\n",
    "                #print(\"arr[i] :\"+str(arr[i])+\" is swapped with arr[j] :\"+str(arr[j]))\n",
    "            #pos-=1\n",
    "    #print(\"FINALLY\")\n",
    "    #print(\"Loop End:\"+str(i)+\" arr :\"+str(arr))\n",
    "print(\"Sorted Array :\",arr)\n",
    "#print(\"-------------------------------------------------------------------------\")\n",
    " "
   ]
  },
  {
   "cell_type": "code",
   "execution_count": null,
   "id": "a2fadbd9",
   "metadata": {},
   "outputs": [],
   "source": []
  }
 ],
 "metadata": {
  "kernelspec": {
   "display_name": "Python 3 (ipykernel)",
   "language": "python",
   "name": "python3"
  },
  "language_info": {
   "codemirror_mode": {
    "name": "ipython",
    "version": 3
   },
   "file_extension": ".py",
   "mimetype": "text/x-python",
   "name": "python",
   "nbconvert_exporter": "python",
   "pygments_lexer": "ipython3",
   "version": "3.9.7"
  }
 },
 "nbformat": 4,
 "nbformat_minor": 5
}
