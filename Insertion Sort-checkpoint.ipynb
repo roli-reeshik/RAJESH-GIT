{
 "cells": [
  {
   "cell_type": "code",
   "execution_count": 9,
   "id": "93f2e030",
   "metadata": {},
   "outputs": [
    {
     "name": "stdout",
     "output_type": "stream",
     "text": [
      "[7, 2, 1, 23, 6, 9, 11]\n",
      "First Swap\n",
      "arr[i] :2 is swapped with arr[k] :7\n",
      "FINALLY\n",
      "Loop :0 arr :[2, 7, 1, 23, 6, 9, 11]\n",
      "First Swap\n",
      "arr[i] :1 is swapped with arr[k] :7\n",
      "second loop\n",
      "Second Swap\n",
      "arr[i] :2 is swapped with arr[j] :1\n",
      "FINALLY\n",
      "Loop :1 arr :[1, 2, 7, 23, 6, 9, 11]\n",
      "First Swap\n",
      "arr[i] :23 is swapped with arr[k] :7\n",
      "second loop\n",
      "second loop\n",
      "FINALLY\n",
      "Loop :2 arr :[1, 2, 23, 7, 6, 9, 11]\n",
      "First Swap\n",
      "arr[i] :6 is swapped with arr[k] :7\n",
      "second loop\n",
      "second loop\n",
      "second loop\n",
      "Second Swap\n",
      "arr[i] :23 is swapped with arr[j] :6\n",
      "FINALLY\n",
      "Loop :3 arr :[1, 2, 6, 23, 7, 9, 11]\n",
      "First Swap\n",
      "arr[i] :9 is swapped with arr[k] :7\n",
      "second loop\n",
      "second loop\n",
      "second loop\n",
      "second loop\n",
      "Second Swap\n",
      "arr[i] :23 is swapped with arr[j] :9\n",
      "FINALLY\n",
      "Loop :4 arr :[1, 2, 6, 9, 23, 7, 11]\n",
      "First Swap\n",
      "arr[i] :11 is swapped with arr[k] :7\n",
      "second loop\n",
      "second loop\n",
      "second loop\n",
      "second loop\n",
      "second loop\n",
      "Second Swap\n",
      "arr[i] :23 is swapped with arr[j] :11\n",
      "FINALLY\n",
      "Loop :5 arr :[1, 2, 6, 9, 11, 23, 7]\n",
      "Sorted Array : [1, 2, 6, 9, 11, 23, 7]\n"
     ]
    }
   ],
   "source": [
    "arr=[7,2,1,23,6,9,11]\n",
    "print(arr)\n",
    "for i in range(0,len(arr)-1):\n",
    "    k=i+1\n",
    "    pos=i\n",
    "    #print(\"i=\",i)\n",
    "    #print(\"k=\",k)\n",
    "    #print(\"pos=\",pos)\n",
    "    #print(\"arr[i] :\",arr[i])\n",
    "    #print(\"arr[k] :\",arr[k])\n",
    "    if arr[i] > arr[k] & k<=len(arr):\n",
    "        arr[i],arr[k]=arr[k],arr[i]\n",
    "        print(\"First Swap\")\n",
    "        print(\"arr[i] :\"+str(arr[i])+\" is swapped with arr[k] :\"+str(arr[k]))\n",
    "        #print(\"i after loop=\",i)\n",
    "        #print(\"pos after loop=\",pos)\n",
    "        for j in range(0,i):\n",
    "            print(\"second loop\")\n",
    "            #j=pos-1\n",
    "            #print(\"second\")\n",
    "            if arr[i]<arr[j]:\n",
    "                arr[i],arr[j]=arr[j],arr[i]\n",
    "                print(\"Second Swap\")\n",
    "                #print(\"pos=\",pos)\n",
    "                print(\"arr[i] :\"+str(arr[i])+\" is swapped with arr[j] :\"+str(arr[j]))\n",
    "            #pos-=1\n",
    "    print(\"FINALLY\")\n",
    "    print(\"Loop :\"+str(i)+\" arr :\"+str(arr))\n",
    "print(\"Sorted Array :\",arr)\n",
    "        \n",
    "    "
   ]
  },
  {
   "cell_type": "code",
   "execution_count": null,
   "id": "122e1f66",
   "metadata": {},
   "outputs": [],
   "source": []
  },
  {
   "cell_type": "code",
   "execution_count": null,
   "id": "a6c82afe",
   "metadata": {},
   "outputs": [],
   "source": []
  }
 ],
 "metadata": {
  "kernelspec": {
   "display_name": "Python 3 (ipykernel)",
   "language": "python",
   "name": "python3"
  },
  "language_info": {
   "codemirror_mode": {
    "name": "ipython",
    "version": 3
   },
   "file_extension": ".py",
   "mimetype": "text/x-python",
   "name": "python",
   "nbconvert_exporter": "python",
   "pygments_lexer": "ipython3",
   "version": "3.9.7"
  }
 },
 "nbformat": 4,
 "nbformat_minor": 5
}
